{
 "cells": [
  {
   "cell_type": "code",
   "execution_count": 1,
   "id": "1ab0c718",
   "metadata": {},
   "outputs": [
    {
     "name": "stdout",
     "output_type": "stream",
     "text": [
      "Collecting pyqubo\n",
      "  Downloading pyqubo-1.0.13-cp39-cp39-manylinux_2_5_x86_64.manylinux1_x86_64.whl (884 kB)\n",
      "\u001b[K     |████████████████████████████████| 884 kB 1.6 MB/s eta 0:00:01\n",
      "\u001b[?25hRequirement already satisfied: numpy>=1.17.3 in /home/askery/anaconda3/envs/myqlm/lib/python3.9/site-packages (from pyqubo) (1.21.4)\n",
      "Collecting dwave-neal>=0.5.7\n",
      "  Downloading dwave_neal-0.5.8-cp39-cp39-manylinux_2_5_x86_64.manylinux1_x86_64.whl (396 kB)\n",
      "\u001b[K     |████████████████████████████████| 396 kB 6.4 MB/s eta 0:00:01\n",
      "\u001b[?25hCollecting dimod<0.11,>=0.9.14\n",
      "  Downloading dimod-0.10.7-cp39-cp39-manylinux_2_17_x86_64.manylinux2014_x86_64.whl (13.9 MB)\n",
      "\u001b[K     |████████████████████████████████| 13.9 MB 845 kB/s eta 0:00:01\n",
      "\u001b[?25hCollecting Deprecated>=1.2.12\n",
      "  Downloading Deprecated-1.2.13-py2.py3-none-any.whl (9.6 kB)\n",
      "Requirement already satisfied: six>=1.15.0 in /home/askery/anaconda3/envs/myqlm/lib/python3.9/site-packages (from pyqubo) (1.16.0)\n",
      "Collecting wrapt<2,>=1.10\n",
      "  Downloading wrapt-1.13.3-cp39-cp39-manylinux_2_5_x86_64.manylinux1_x86_64.manylinux_2_12_x86_64.manylinux2010_x86_64.whl (81 kB)\n",
      "\u001b[K     |████████████████████████████████| 81 kB 1.4 MB/s eta 0:00:01\n",
      "\u001b[?25hCollecting dwave-preprocessing<0.4,>=0.3\n",
      "  Downloading dwave_preprocessing-0.3.1.post0-cp39-cp39-manylinux_2_5_x86_64.manylinux1_x86_64.whl (772 kB)\n",
      "\u001b[K     |████████████████████████████████| 772 kB 3.8 MB/s eta 0:00:01\n",
      "\u001b[?25hRequirement already satisfied: pyparsing<3.0.0,>=2.4.7 in /home/askery/anaconda3/envs/myqlm/lib/python3.9/site-packages (from dimod<0.11,>=0.9.14->pyqubo) (2.4.7)\n",
      "Installing collected packages: dwave-preprocessing, wrapt, dimod, dwave-neal, Deprecated, pyqubo\n",
      "Successfully installed Deprecated-1.2.13 dimod-0.10.7 dwave-neal-0.5.8 dwave-preprocessing-0.3.1.post0 pyqubo-1.0.13 wrapt-1.13.3\n"
     ]
    }
   ],
   "source": [
    "!pip install pyqubo"
   ]
  },
  {
   "cell_type": "code",
   "execution_count": 3,
   "id": "3586fa68",
   "metadata": {},
   "outputs": [],
   "source": [
    "from qat.lang.AQASM import Program, CNOT, H, RX, RY, RZ\n",
    "from qat.qpus import get_default_qpu\n",
    "import numpy as np\n",
    "from numpy import linalg\n",
    "from qat.qpus import PyLinalg\n",
    "import qiskit\n",
    "from qiskit import *\n",
    "from qiskit.aqua.components.optimizers import COBYLA,SLSQP,SPSA\n",
    "from qiskit.visualization import plot_histogram\n",
    "import numpy as np\n",
    "from numpy import pi\n",
    "import matplotlib.pyplot as plt\n",
    "import scipy\n",
    "from scipy import optimize\n",
    "\n",
    "%matplotlib inline"
   ]
  },
  {
   "attachments": {
    "image.png": {
     "image/png": "[encoded data removed]"
    }
   },
   "cell_type": "markdown",
   "id": "b58205d3",
   "metadata": {},
   "source": [
    "# Otimização de Portfólio\n",
    "\n",
    "A função objetivo para a otimização de portfólio pode ser modelada como uma função quadrática binária irrestrita. Essa função,termos do retorno, orçamento total e a matriz de covariância do portfólio, pode ser expressa como\n",
    "\n",
    "![image.png](attachment:image.png)\n",
    "\n",
    "## 1. Quantum Approximate Optimization Algorithm (QAOA)"
   ]
  },
  {
   "cell_type": "code",
   "execution_count": 4,
   "id": "8285f061",
   "metadata": {},
   "outputs": [],
   "source": [
    "#matriz de covariante usada no problema clássico\n",
    "cov  = [[1.08774352e-03, 2.59532811e-04, 1.80247155e-04, 3.21724369e-04],\n",
    "       [2.59532811e-04, 4.43192629e-04, 7.43211072e-05, 2.27911525e-04],\n",
    "       [1.80247155e-04, 7.43211072e-05, 3.89444953e-04, 1.37915422e-04],\n",
    "       [3.21724369e-04, 2.27911525e-04, 1.37915422e-04, 8.75437564e-04]]\n",
    "\n",
    "#retornos\n",
    "mu  = [0.31542042, 0.0571331 , 0.11430001, 0.30109367]\n",
    "\n",
    "# parâmetros da função objetiva\n",
    "q   = 0.5\n",
    "B   = 2\n",
    "lamb= 1\n",
    "\n",
    "#cria as variáveis binárias\n",
    "from pyqubo import Spin, Binary\n",
    "s1, s2, s3, s4 = Spin(\"s1\"), Spin(\"s2\"), Spin(\"s3\"), Spin(\"s4\")\n",
    "x1, x2, x3, x4 = Binary(\"x1\"), Binary(\"x2\"), Binary(\"x3\"), Binary(\"x4\")\n",
    "#\n",
    "X=[x1,x2,x3,x4]\n",
    "\n",
    "# escreve o QUBO\n",
    "EN = (mu[0]*X[0] + mu[1]*X[1] + mu[2]*X[2] + mu[3]*X[3] - \n",
    "         q*(cov[0][1]*X[0]*X[1] + cov[0][2]*X[0]*X[2] + cov[0][3]*X[0]*X[3] + cov[1][2]*X[1]*X[2] + \n",
    "        cov[1][3]*X[1]*X[3] + cov[2][3]*X[2]*X[3]) - \n",
    "             lamb*(B - X[0] - X[1] - X[2] - X[3]))\n",
    "\n",
    "# cria o modelo e transforma de QUBO para Ising\n",
    "model = EN.compile()\n",
    "linear, quadratic, offset = model.to_ising()\n",
    "\n",
    "# coeficientes que serão usados no Operador Gamma\n",
    "coefs=[linear['x1'],linear['x2'],linear['x3'],linear['x4'],\n",
    "      quadratic[('x1', 'x2')],quadratic[('x3', 'x1')],quadratic[('x4', 'x1')],\n",
    "       quadratic[('x3', 'x2')], quadratic[('x4', 'x2')],quadratic[('x4', 'x3')]]\n",
    "\n"
   ]
  },
  {
   "cell_type": "code",
   "execution_count": 27,
   "id": "e11b6be4",
   "metadata": {},
   "outputs": [
    {
     "data": {
      "text/html": [
       "<pre style=\"word-wrap: normal;white-space: pre;background: #fff0;line-height: 1.1;font-family: &quot;Courier New&quot;,Courier,monospace\">                                                                                                                   ░ ┌─────────────┐\n",
       "q_0: ──■─────────────■────■─────────────■────■──────────────────────■──────────────────────────────────────────────░─┤ Rz(0.65762) ├\n",
       "     ┌─┴─┐┌───────┐┌─┴─┐  │             │    │                      │                                              ░ └┬────────────┤\n",
       "q_1: ┤ X ├┤ Rz(0) ├┤ X ├──┼─────────────┼────┼──────■───────────────┼────■────■─────────────■──────────────────────░──┤ Rz(0.5285) ├\n",
       "     └───┘└───────┘└───┘┌─┴─┐┌───────┐┌─┴─┐  │    ┌─┴─┐  ┌───────┐  │  ┌─┴─┐  │             │                      ░  ├────────────┤\n",
       "q_2: ───────────────────┤ X ├┤ Rz(0) ├┤ X ├──┼────┤ X ├──┤ Rz(0) ├──┼──┤ X ├──┼─────────────┼────■─────────────■───░──┤ Rz(0.5571) ├\n",
       "                        └───┘└───────┘└───┘┌─┴─┐┌─┴───┴─┐└───────┘┌─┴─┐└───┘┌─┴─┐┌───────┐┌─┴─┐┌─┴─┐┌───────┐┌─┴─┐ ░ ┌┴────────────┤\n",
       "q_3: ──────────────────────────────────────┤ X ├┤ Rz(0) ├─────────┤ X ├─────┤ X ├┤ Rz(0) ├┤ X ├┤ X ├┤ Rz(0) ├┤ X ├─░─┤ Rz(0.65046) ├\n",
       "                                           └───┘└───────┘         └───┘     └───┘└───────┘└───┘└───┘└───────┘└───┘ ░ └─────────────┘</pre>"
      ],
      "text/plain": [
       "                                                                                                                   ░ ┌─────────────┐\n",
       "q_0: ──■─────────────■────■─────────────■────■──────────────────────■──────────────────────────────────────────────░─┤ Rz(0.65762) ├\n",
       "     ┌─┴─┐┌───────┐┌─┴─┐  │             │    │                      │                                              ░ └┬────────────┤\n",
       "q_1: ┤ X ├┤ Rz(0) ├┤ X ├──┼─────────────┼────┼──────■───────────────┼────■────■─────────────■──────────────────────░──┤ Rz(0.5285) ├\n",
       "     └───┘└───────┘└───┘┌─┴─┐┌───────┐┌─┴─┐  │    ┌─┴─┐  ┌───────┐  │  ┌─┴─┐  │             │                      ░  ├────────────┤\n",
       "q_2: ───────────────────┤ X ├┤ Rz(0) ├┤ X ├──┼────┤ X ├──┤ Rz(0) ├──┼──┤ X ├──┼─────────────┼────■─────────────■───░──┤ Rz(0.5571) ├\n",
       "                        └───┘└───────┘└───┘┌─┴─┐┌─┴───┴─┐└───────┘┌─┴─┐└───┘┌─┴─┐┌───────┐┌─┴─┐┌─┴─┐┌───────┐┌─┴─┐ ░ ┌┴────────────┤\n",
       "q_3: ──────────────────────────────────────┤ X ├┤ Rz(0) ├─────────┤ X ├─────┤ X ├┤ Rz(0) ├┤ X ├┤ X ├┤ Rz(0) ├┤ X ├─░─┤ Rz(0.65046) ├\n",
       "                                           └───┘└───────┘         └───┘     └───┘└───────┘└───┘└───┘└───────┘└───┘ ░ └─────────────┘"
      ]
     },
     "execution_count": 27,
     "metadata": {},
     "output_type": "execute_result"
    }
   ],
   "source": [
    "# OBS: NESSA CÉLULA, O QISKIT É USADO APENAS PARA VIZUALIZAÇÃO DO CIRCUITO\n",
    "\n",
    "num_assets=4\n",
    "def gamma_op(gamma):\n",
    "    num_q=num_assets\n",
    "    qc_gamma=QuantumCircuit(num_q)\n",
    "    # iteration between p0 and p1\n",
    "    \n",
    "    for i in range(num_q):\n",
    "        for j in range(num_q):\n",
    "            if(i<j):\n",
    "                qc_gamma.cx(i,j)\n",
    "                qc_gamma.rz(gamma*coefs[j+4],j)\n",
    "                qc_gamma.cx(i,j)\n",
    "    qc_gamma.barrier()\n",
    "    for i in range(num_q):\n",
    "        qc_gamma.rz(coefs[i],i)\n",
    "\n",
    "    return qc_gamma\n",
    "\n",
    "guess=0\n",
    "gamma_op(guess).draw(fold=-1)"
   ]
  },
  {
   "cell_type": "code",
   "execution_count": 6,
   "id": "0f502984",
   "metadata": {},
   "outputs": [],
   "source": [
    "# IMPLEMENTAÇÃO DO CIRCUITO VARIACIONAL NO MYQLM\n",
    "def var_circuit(gamma, beta, num_layers, num_qubits):\n",
    "    qprog = Program()    \n",
    "    qubits = qprog.qalloc(num_qubits)\n",
    "    \n",
    "    #estado inicial: |+>^n\n",
    "    for qubit in range(num_qubits):\n",
    "        qprog.apply(H, qubits[qubit])\n",
    "\n",
    "    for layer in range(num_layers):            \n",
    "        #operador gamma\n",
    "        \n",
    "        for i in range(num_qubits):\n",
    "            for j in range(num_qubits):\n",
    "                if(i<j):\n",
    "                    qprog.apply(CNOT, qubits[i], qubits[j])\n",
    "                    qprog.apply(RZ(gamma[layer]*coefs[j+4]), qubits[j])\n",
    "                    qprog.apply(CNOT, qubits[i], qubits[j])\n",
    "        for i in range(num_qubits):\n",
    "            qprog.apply(RZ(gamma[layer]*coefs[i]), qubits[i])\n",
    "        \n",
    "        # operador beta (forma variacional: emaranhamento linear)\n",
    "        for i in range(num_qubits):\n",
    "            qprog.apply(RY(beta[layer]), qubits[i])        \n",
    "        for i in range(num_qubits-1):\n",
    "            qprog.apply(CNOT, qubits[i], qubits[i+1])\n",
    "        qprog.apply(CNOT, qubits[num_qubits-1], qubits[0])        \n",
    "        for i in range(num_qubits):\n",
    "            qprog.apply(RY(beta[layer]), qubits[i])\n",
    "    \n",
    "    return qprog"
   ]
  },
  {
   "cell_type": "code",
   "execution_count": 7,
   "id": "51915c58",
   "metadata": {},
   "outputs": [],
   "source": [
    "num_assets = 4\n",
    "num_qubits = num_assets\n",
    "num_layers = 8\n",
    "gamma_size = num_layers\n",
    "beta_size  = num_layers"
   ]
  },
  {
   "attachments": {
    "image.png": {
     "image/png": "[encoded data removed]"
    }
   },
   "cell_type": "markdown",
   "id": "22e2f037",
   "metadata": {},
   "source": [
    "![image.png](attachment:image.png)"
   ]
  },
  {
   "cell_type": "code",
   "execution_count": 8,
   "id": "efdbfefa",
   "metadata": {},
   "outputs": [],
   "source": [
    "# ENERGIAS DO HAMILTONIANO QUE SERÃO CALCULADAS PARA OS AUTOESTADOS MEDIDOS\n",
    "\n",
    "def energy(x,num_qubits=num_qubits):   \n",
    "    H = -((mu[0]*x[0]+mu[1]*x[1]+mu[2]*x[2]+mu[3]*x[3]) - \n",
    "          q*(cov[0][1]*x[0]*x[1] + cov[0][2]*x[0]*x[2]+ \n",
    "             cov[0][3]*x[0]*x[3] + cov[1][2]*x[1]*x[2]+\n",
    "             cov[1][3]*x[1]*x[3] + cov[2][3]*x[2]*x[3]) - \n",
    "              lamb*(B - x[0]-x[1]-x[2]-x[3])**2)\n",
    "    return H"
   ]
  },
  {
   "cell_type": "code",
   "execution_count": 9,
   "id": "c3aca21b",
   "metadata": {},
   "outputs": [
    {
     "data": {
      "text/plain": [
       "-0.6163532278155"
      ]
     },
     "execution_count": 9,
     "metadata": {},
     "output_type": "execute_result"
    }
   ],
   "source": [
    "energy([1,0,0,1])"
   ]
  },
  {
   "cell_type": "code",
   "execution_count": 10,
   "id": "596a7874",
   "metadata": {},
   "outputs": [],
   "source": [
    "def cost_function(param):\n",
    "    circuit=var_circuit(param[:int((len(param)/2))], \n",
    "                        param[(int(len(param)/2)):-1], \n",
    "                        num_layers=num_layers, \n",
    "                        num_qubits=num_qubits).to_circ()\n",
    "    \n",
    "    job = circuit.to_job()\n",
    "    result = get_default_qpu().submit(job)\n",
    "    states=[]\n",
    "    probs=[]\n",
    "    for sample in result:\n",
    "        #print(sample.state, sample.probability)\n",
    "        states.append(sample.state)\n",
    "        probs.append(sample.probability)\n",
    "    exp_value=0\n",
    "    for i in range(len(states)):\n",
    "        exp_value = exp_value + energy(states[i])*probs[i]\n",
    "        \n",
    "    return exp_value"
   ]
  },
  {
   "cell_type": "code",
   "execution_count": 11,
   "id": "99a89d90",
   "metadata": {},
   "outputs": [
    {
     "data": {
      "text/plain": [
       "0.6061766065486496"
      ]
     },
     "execution_count": 11,
     "metadata": {},
     "output_type": "execute_result"
    }
   ],
   "source": [
    "cost_function(np.zeros(2*num_layers+1))"
   ]
  },
  {
   "cell_type": "code",
   "execution_count": 38,
   "id": "dd9f2bf6",
   "metadata": {
    "scrolled": false
   },
   "outputs": [
    {
     "name": "stdout",
     "output_type": "stream",
     "text": [
      "<H>min média dos 3 mín.:    0.6061766065486496    PROB |1001> média 3 max.:    0.06249999999999996\n",
      "<H>min média dos 3 mín.:    0.37973501136709004    PROB |1001> média 3 max.:    0.028326822272647406\n",
      "<H>min média dos 3 mín.:    -0.14456905989522045    PROB |1001> média 3 max.:    0.025127563862092087\n",
      "<H>min média dos 3 mín.:    -0.1901190763636908    PROB |1001> média 3 max.:    0.18237811691782355\n",
      "<H>min média dos 3 mín.:    -0.3395088568771939    PROB |1001> média 3 max.:    0.6152088725275295\n",
      "<H>min média dos 3 mín.:    -0.4130608383585722    PROB |1001> média 3 max.:    0.39781781893298496\n",
      "<H>min média dos 3 mín.:    -0.39231470650322176    PROB |1001> média 3 max.:    0.5375191363304616\n",
      "<H>min média dos 3 mín.:    -0.4176311749714343    PROB |1001> média 3 max.:    0.3658134781470583\n",
      "<H>min média dos 3 mín.:    -0.4518383527681351    PROB |1001> média 3 max.:    0.42276875996207763\n",
      "<H>min média dos 3 mín.:    -0.5237473109099406    PROB |1001> média 3 max.:    0.676131869300399\n",
      "<H>min média dos 3 mín.:    -0.5092153884001669    PROB |1001> média 3 max.:    0.6278906805623836\n",
      "<H>min média dos 3 mín.:    -0.5358429850016959    PROB |1001> média 3 max.:    0.7610240235398698\n",
      "<H>min média dos 3 mín.:    -0.5167750458001429    PROB |1001> média 3 max.:    0.5958114578832701\n",
      "<H>min média dos 3 mín.:    -0.5687188579417801    PROB |1001> média 3 max.:    0.8511834477813782\n",
      "<H>min média dos 3 mín.:    -0.5597415295842517    PROB |1001> média 3 max.:    0.7657723081861783\n",
      "<H>min média dos 3 mín.:    -0.5734294752407759    PROB |1001> média 3 max.:    0.88831979539138\n",
      "<H>min média dos 3 mín.:    -0.5843224100908995    PROB |1001> média 3 max.:    0.891763782514589\n",
      "<H>min média dos 3 mín.:    -0.5605172425443403    PROB |1001> média 3 max.:    0.7914597713875664\n",
      "<H>min média dos 3 mín.:    -0.5850239878549834    PROB |1001> média 3 max.:    0.8746234418360955\n",
      "<H>min média dos 3 mín.:    -0.5741245293651056    PROB |1001> média 3 max.:    0.832662370741813\n",
      "<H>min média dos 3 mín.:    -0.5974073703610816    PROB |1001> média 3 max.:    0.9284385390327197\n"
     ]
    }
   ],
   "source": [
    "n = 2 # tomar a média das n melhores soluções\n",
    "Hmin_med        = [] # salvar a energia da solução |1001>\n",
    "prob1001_med    = [] # salvar a probabilidade da solução |1001>\n",
    "num_seeds       = 5 # tentar num_seeds soluções\n",
    "num_try         = 21 # fazer de 0 a (num_try-1) camadas\n",
    "matriz_Hmin     = [] # salvar todas as 10 energias para cada número de camadas\n",
    "matriz_prob1001 = [] # salvar todas as 10 probabilidades para cada número de camadas\n",
    "\n",
    "for k in range(num_try):    \n",
    "    num_layers  = k\n",
    "    Hmin        = []\n",
    "    prob1001    = []\n",
    "    for i in range(num_seeds):\n",
    "        np.random.seed(i**2)\n",
    "        guess = np.random.random(2*num_layers+1)\n",
    "        ret   = scipy.optimize.minimize(cost_function, guess, args=(), method='COBYLA', constraints=(), tol=None, callback=None, options={'rhobeg': 1.0, 'maxiter': 1000, 'disp': False, 'catol': 0.0002})\n",
    "        Hmin.append(ret['fun'])\n",
    "        \n",
    "        check = var_circuit(ret['x'][:int(len(ret['x'])/2)], \n",
    "                            ret['x'][int(len(ret['x'])/2):-1], \n",
    "                            num_layers=num_layers, \n",
    "                            num_qubits=num_qubits)\n",
    "\n",
    "\n",
    "        circ  = check.to_circ()\n",
    "        job   = circ.to_job()\n",
    "        result= get_default_qpu().submit(job)\n",
    "        states= []\n",
    "        probs = []\n",
    "        for sample in result:\n",
    "            states.append(sample.state)\n",
    "            probs.append(sample.probability)\n",
    "        prob1001.append(probs[9])\n",
    "    \n",
    "    print(\"<H>min média dos 2 mín.:   \",np.mean(sorted(Hmin)[:n]), \"   PROB |1001> média 3 max.:   \",np.mean(sorted(prob1001)[-n:]))\n",
    "    Hmin_med.append(np.mean(sorted(Hmin)[:n]))\n",
    "    prob1001_med.append(np.mean(sorted(prob1001)[-n:]))\n",
    "    matriz_Hmin.append(Hmin)\n",
    "    matriz_prob1001.append(prob1001)"
   ]
  },
  {
   "cell_type": "code",
   "execution_count": 44,
   "id": "b694e650",
   "metadata": {
    "scrolled": true
   },
   "outputs": [
    {
     "data": {
      "image/png": "[encoded data removed]",
      "text/plain": [
       "<Figure size 432x288 with 1 Axes>"
      ]
     },
     "metadata": {
      "needs_background": "light"
     },
     "output_type": "display_data"
    }
   ],
   "source": [
    "# Plot da distribuição de probabilidades\n",
    "strings = ['0000','0001','0010','0011','0100','0101','0110','0111',\n",
    "           '1000','1001','1010','1011','1100','1101','1110','1111']\n",
    "width   = 1\n",
    "plt.bar(strings, probs, width=width, color='black')\n",
    "plt.xlabel('Autoestado',    size=14)\n",
    "plt.ylabel('Probabilidade', size=14)\n",
    "plt.title ('Distribuição de Probabilidades', size=14)\n",
    "plt.xticks(x, strings, rotation=60);"
   ]
  },
  {
   "cell_type": "code",
   "execution_count": 40,
   "id": "3ee4aa2d",
   "metadata": {
    "scrolled": true
   },
   "outputs": [
    {
     "data": {
      "image/png": "[encoded data removed]",
      "text/plain": [
       "<Figure size 432x288 with 1 Axes>"
      ]
     },
     "metadata": {
      "needs_background": "light"
     },
     "output_type": "display_data"
    }
   ],
   "source": [
    "plt.xticks(range(len(prob1001_med)))\n",
    "plt.plot(range(len(prob1001_med)), prob1001_med, 'r-',linewidth = 2.5 )\n",
    "plt.title(\"Probabilidade média de medida da solução ótima\", size=14)\n",
    "plt.ylabel(r'$|\\langle\\psi|1001\\rangle|^2$', size=14)\n",
    "plt.xlabel(\"Número de camadas\", size=14)\n",
    "plt.axis([0, 20, 0, 1])\n",
    "plt.grid(True);"
   ]
  },
  {
   "cell_type": "code",
   "execution_count": 42,
   "id": "19254ccf",
   "metadata": {},
   "outputs": [
    {
     "data": {
      "image/png": "[encoded data removed]",
      "text/plain": [
       "<Figure size 432x288 with 1 Axes>"
      ]
     },
     "metadata": {
      "needs_background": "light"
     },
     "output_type": "display_data"
    }
   ],
   "source": [
    "plt.xticks(range(len(Hmin_med)))\n",
    "plt.plot(range(len(Hmin_med)), Hmin_med, 'r-',linewidth = 2.5)\n",
    "plt.plot(range(len(Hmin_med)),energy([1,0,0,1])*np.ones(len(Hmin_med)),'b--',linewidth = 1.5)\n",
    "plt.legend([[\"Valor esperado\"],[\"Referência\"]])\n",
    "#plt.scatter(range(len(Hmin_avg)), Hmin_avg, color='red')\n",
    "plt.title(\"Convergência do QAOA\", size=14)\n",
    "plt.ylabel(r'$F_p$', size=14)\n",
    "plt.xlabel(\"Número de camadas\", size=14)\n",
    "plt.axis([0, 20, -0.67, 0.70])\n",
    "plt.grid(True);"
   ]
  },
  {
   "cell_type": "code",
   "execution_count": 36,
   "id": "3e5c9ccf",
   "metadata": {},
   "outputs": [
    {
     "name": "stdout",
     "output_type": "stream",
     "text": [
      "[0.6061766065486496, 0.1783651012993307, -0.14456905989522045, -0.258217648300124, -0.299585022632576, -0.4102495603490874, -0.4084804283260811, -0.4742735039119902, -0.48396393350477995, -0.5248092976823301, -0.5553998907898297, -0.5748630703192127, -0.5167750458001429, -0.5695833950086492, -0.5597415295842517, -0.5467768851695921, -0.5843224100908995, -0.5938561441610738, -0.5850239878549834, -0.5778439886856939, -0.5974073703610816]\n"
     ]
    }
   ],
   "source": [
    "print(Hmin_med)"
   ]
  },
  {
   "cell_type": "code",
   "execution_count": 37,
   "id": "d85a6d7f",
   "metadata": {},
   "outputs": [
    {
     "name": "stdout",
     "output_type": "stream",
     "text": [
      "[0.06249999999999996, 0.04950369215602037, 0.0458578562888704, 0.20197429617288815, 0.4151568200940628, 0.3528412410482049, 0.6449223680778484, 0.6464341450715465, 0.5891148503036481, 0.6908843409410997, 0.7761801936186558, 0.8715814527597993, 0.5958114578832701, 0.8690163999852532, 0.8117884590953903, 0.8017491648892708, 0.891763782514589, 0.9271631567041381, 0.8746234418360955, 0.8700424264619397, 0.9284385390327197]\n"
     ]
    }
   ],
   "source": [
    "print(prob1001_med)"
   ]
  }
 ],
 "metadata": {
  "kernelspec": {
   "display_name": "Python 3 (ipykernel)",
   "language": "python",
   "name": "python3"
  },
  "language_info": {
   "codemirror_mode": {
    "name": "ipython",
    "version": 3
   },
   "file_extension": ".py",
   "mimetype": "text/x-python",
   "name": "python",
   "nbconvert_exporter": "python",
   "pygments_lexer": "ipython3",
   "version": "3.9.7"
  }
 },
 "nbformat": 4,
 "nbformat_minor": 5
}
